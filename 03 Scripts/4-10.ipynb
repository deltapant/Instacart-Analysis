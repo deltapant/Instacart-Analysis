{
 "cells": [
  {
   "cell_type": "markdown",
   "id": "3f4db79a-a69d-4fb0-a854-66cfc9c6ebc7",
   "metadata": {},
   "source": [
    "# 4.10"
   ]
  },
  {
   "cell_type": "code",
   "execution_count": 1,
   "id": "f2557c57-e3bc-4add-adb7-749461e185f2",
   "metadata": {},
   "outputs": [],
   "source": [
    "# Importing Libraries\n",
    "import pandas as pd\n",
    "import numpy as np\n",
    "import os\n",
    "import matplotlib.pyplot as plt\n",
    "import seaborn as sns\n",
    "import scipy"
   ]
  },
  {
   "cell_type": "code",
   "execution_count": 2,
   "id": "358a1e96-03a2-4053-8f74-2b2d69e65eb9",
   "metadata": {},
   "outputs": [],
   "source": [
    "os.environ['KMP_DUPLICATE_LIB_OK']='True'"
   ]
  },
  {
   "cell_type": "code",
   "execution_count": 3,
   "id": "ec1dd3a0-8296-43a8-b502-ea8d8056a48e",
   "metadata": {},
   "outputs": [],
   "source": [
    "# Create a path\n",
    "path = 'C:/Users/suhas/Documents/cf/Instacart Data Analysis'"
   ]
  },
  {
   "cell_type": "code",
   "execution_count": 4,
   "id": "89fb1300-68ac-4576-bbc2-44bb1952eae3",
   "metadata": {},
   "outputs": [],
   "source": [
    "# import\n",
    "merged_df = pd.read_pickle(os.path.join(path, '02 Data', 'Prepared Data', 'dataframe_exercise_4_9.pkl'))"
   ]
  },
  {
   "cell_type": "code",
   "execution_count": 5,
   "id": "3d0c932f-6902-4312-bc6d-92c9638b8978",
   "metadata": {},
   "outputs": [
    {
     "data": {
      "text/html": [
       "<div>\n",
       "<style scoped>\n",
       "    .dataframe tbody tr th:only-of-type {\n",
       "        vertical-align: middle;\n",
       "    }\n",
       "\n",
       "    .dataframe tbody tr th {\n",
       "        vertical-align: top;\n",
       "    }\n",
       "\n",
       "    .dataframe thead th {\n",
       "        text-align: right;\n",
       "    }\n",
       "</style>\n",
       "<table border=\"1\" class=\"dataframe\">\n",
       "  <thead>\n",
       "    <tr style=\"text-align: right;\">\n",
       "      <th></th>\n",
       "      <th>product_id</th>\n",
       "      <th>product_name</th>\n",
       "      <th>aisle_id</th>\n",
       "      <th>department_id</th>\n",
       "      <th>prices</th>\n",
       "      <th>order_id</th>\n",
       "      <th>user_id</th>\n",
       "      <th>eval_set</th>\n",
       "      <th>customers_current_order_count</th>\n",
       "      <th>order_days_of_week</th>\n",
       "      <th>...</th>\n",
       "      <th>first_name</th>\n",
       "      <th>surname</th>\n",
       "      <th>gender</th>\n",
       "      <th>state</th>\n",
       "      <th>age</th>\n",
       "      <th>date_joined</th>\n",
       "      <th>n_dependents</th>\n",
       "      <th>fam_status</th>\n",
       "      <th>income</th>\n",
       "      <th>merging_status</th>\n",
       "    </tr>\n",
       "  </thead>\n",
       "  <tbody>\n",
       "    <tr>\n",
       "      <th>0</th>\n",
       "      <td>1</td>\n",
       "      <td>Chocolate Sandwich Cookies</td>\n",
       "      <td>61</td>\n",
       "      <td>19</td>\n",
       "      <td>5.8</td>\n",
       "      <td>3139998</td>\n",
       "      <td>138</td>\n",
       "      <td>prior</td>\n",
       "      <td>28</td>\n",
       "      <td>6</td>\n",
       "      <td>...</td>\n",
       "      <td>Charles</td>\n",
       "      <td>Cox</td>\n",
       "      <td>Male</td>\n",
       "      <td>Minnesota</td>\n",
       "      <td>81</td>\n",
       "      <td>8/1/2019</td>\n",
       "      <td>1</td>\n",
       "      <td>married</td>\n",
       "      <td>49620</td>\n",
       "      <td>both</td>\n",
       "    </tr>\n",
       "    <tr>\n",
       "      <th>1</th>\n",
       "      <td>1</td>\n",
       "      <td>Chocolate Sandwich Cookies</td>\n",
       "      <td>61</td>\n",
       "      <td>19</td>\n",
       "      <td>5.8</td>\n",
       "      <td>1977647</td>\n",
       "      <td>138</td>\n",
       "      <td>prior</td>\n",
       "      <td>30</td>\n",
       "      <td>6</td>\n",
       "      <td>...</td>\n",
       "      <td>Charles</td>\n",
       "      <td>Cox</td>\n",
       "      <td>Male</td>\n",
       "      <td>Minnesota</td>\n",
       "      <td>81</td>\n",
       "      <td>8/1/2019</td>\n",
       "      <td>1</td>\n",
       "      <td>married</td>\n",
       "      <td>49620</td>\n",
       "      <td>both</td>\n",
       "    </tr>\n",
       "    <tr>\n",
       "      <th>2</th>\n",
       "      <td>1</td>\n",
       "      <td>Chocolate Sandwich Cookies</td>\n",
       "      <td>61</td>\n",
       "      <td>19</td>\n",
       "      <td>5.8</td>\n",
       "      <td>389851</td>\n",
       "      <td>709</td>\n",
       "      <td>prior</td>\n",
       "      <td>2</td>\n",
       "      <td>0</td>\n",
       "      <td>...</td>\n",
       "      <td>Deborah</td>\n",
       "      <td>Glass</td>\n",
       "      <td>Female</td>\n",
       "      <td>Vermont</td>\n",
       "      <td>66</td>\n",
       "      <td>6/16/2018</td>\n",
       "      <td>2</td>\n",
       "      <td>married</td>\n",
       "      <td>158302</td>\n",
       "      <td>both</td>\n",
       "    </tr>\n",
       "    <tr>\n",
       "      <th>3</th>\n",
       "      <td>1</td>\n",
       "      <td>Chocolate Sandwich Cookies</td>\n",
       "      <td>61</td>\n",
       "      <td>19</td>\n",
       "      <td>5.8</td>\n",
       "      <td>652770</td>\n",
       "      <td>764</td>\n",
       "      <td>prior</td>\n",
       "      <td>1</td>\n",
       "      <td>3</td>\n",
       "      <td>...</td>\n",
       "      <td>Heather</td>\n",
       "      <td>Myers</td>\n",
       "      <td>Female</td>\n",
       "      <td>Wisconsin</td>\n",
       "      <td>40</td>\n",
       "      <td>2/9/2020</td>\n",
       "      <td>3</td>\n",
       "      <td>married</td>\n",
       "      <td>31308</td>\n",
       "      <td>both</td>\n",
       "    </tr>\n",
       "    <tr>\n",
       "      <th>4</th>\n",
       "      <td>1</td>\n",
       "      <td>Chocolate Sandwich Cookies</td>\n",
       "      <td>61</td>\n",
       "      <td>19</td>\n",
       "      <td>5.8</td>\n",
       "      <td>1813452</td>\n",
       "      <td>764</td>\n",
       "      <td>prior</td>\n",
       "      <td>3</td>\n",
       "      <td>4</td>\n",
       "      <td>...</td>\n",
       "      <td>Heather</td>\n",
       "      <td>Myers</td>\n",
       "      <td>Female</td>\n",
       "      <td>Wisconsin</td>\n",
       "      <td>40</td>\n",
       "      <td>2/9/2020</td>\n",
       "      <td>3</td>\n",
       "      <td>married</td>\n",
       "      <td>31308</td>\n",
       "      <td>both</td>\n",
       "    </tr>\n",
       "    <tr>\n",
       "      <th>5</th>\n",
       "      <td>1</td>\n",
       "      <td>Chocolate Sandwich Cookies</td>\n",
       "      <td>61</td>\n",
       "      <td>19</td>\n",
       "      <td>5.8</td>\n",
       "      <td>1701441</td>\n",
       "      <td>777</td>\n",
       "      <td>prior</td>\n",
       "      <td>16</td>\n",
       "      <td>1</td>\n",
       "      <td>...</td>\n",
       "      <td>Christina</td>\n",
       "      <td>Wallace</td>\n",
       "      <td>Female</td>\n",
       "      <td>Hawaii</td>\n",
       "      <td>51</td>\n",
       "      <td>1/4/2019</td>\n",
       "      <td>2</td>\n",
       "      <td>married</td>\n",
       "      <td>57797</td>\n",
       "      <td>both</td>\n",
       "    </tr>\n",
       "    <tr>\n",
       "      <th>6</th>\n",
       "      <td>1</td>\n",
       "      <td>Chocolate Sandwich Cookies</td>\n",
       "      <td>61</td>\n",
       "      <td>19</td>\n",
       "      <td>5.8</td>\n",
       "      <td>1871483</td>\n",
       "      <td>825</td>\n",
       "      <td>prior</td>\n",
       "      <td>3</td>\n",
       "      <td>2</td>\n",
       "      <td>...</td>\n",
       "      <td>nan</td>\n",
       "      <td>Parks</td>\n",
       "      <td>Male</td>\n",
       "      <td>District of Columbia</td>\n",
       "      <td>20</td>\n",
       "      <td>5/8/2019</td>\n",
       "      <td>3</td>\n",
       "      <td>living with parents and siblings</td>\n",
       "      <td>34171</td>\n",
       "      <td>both</td>\n",
       "    </tr>\n",
       "    <tr>\n",
       "      <th>7</th>\n",
       "      <td>1</td>\n",
       "      <td>Chocolate Sandwich Cookies</td>\n",
       "      <td>61</td>\n",
       "      <td>19</td>\n",
       "      <td>5.8</td>\n",
       "      <td>1290456</td>\n",
       "      <td>910</td>\n",
       "      <td>prior</td>\n",
       "      <td>12</td>\n",
       "      <td>3</td>\n",
       "      <td>...</td>\n",
       "      <td>Sandra</td>\n",
       "      <td>Trejo</td>\n",
       "      <td>Female</td>\n",
       "      <td>Tennessee</td>\n",
       "      <td>65</td>\n",
       "      <td>7/25/2019</td>\n",
       "      <td>0</td>\n",
       "      <td>divorced/widowed</td>\n",
       "      <td>44856</td>\n",
       "      <td>both</td>\n",
       "    </tr>\n",
       "    <tr>\n",
       "      <th>8</th>\n",
       "      <td>1</td>\n",
       "      <td>Chocolate Sandwich Cookies</td>\n",
       "      <td>61</td>\n",
       "      <td>19</td>\n",
       "      <td>5.8</td>\n",
       "      <td>369558</td>\n",
       "      <td>1052</td>\n",
       "      <td>prior</td>\n",
       "      <td>10</td>\n",
       "      <td>1</td>\n",
       "      <td>...</td>\n",
       "      <td>Ralph</td>\n",
       "      <td>Avalos</td>\n",
       "      <td>Male</td>\n",
       "      <td>Oregon</td>\n",
       "      <td>72</td>\n",
       "      <td>3/30/2018</td>\n",
       "      <td>1</td>\n",
       "      <td>married</td>\n",
       "      <td>153843</td>\n",
       "      <td>both</td>\n",
       "    </tr>\n",
       "    <tr>\n",
       "      <th>9</th>\n",
       "      <td>1</td>\n",
       "      <td>Chocolate Sandwich Cookies</td>\n",
       "      <td>61</td>\n",
       "      <td>19</td>\n",
       "      <td>5.8</td>\n",
       "      <td>589712</td>\n",
       "      <td>1052</td>\n",
       "      <td>prior</td>\n",
       "      <td>15</td>\n",
       "      <td>1</td>\n",
       "      <td>...</td>\n",
       "      <td>Ralph</td>\n",
       "      <td>Avalos</td>\n",
       "      <td>Male</td>\n",
       "      <td>Oregon</td>\n",
       "      <td>72</td>\n",
       "      <td>3/30/2018</td>\n",
       "      <td>1</td>\n",
       "      <td>married</td>\n",
       "      <td>153843</td>\n",
       "      <td>both</td>\n",
       "    </tr>\n",
       "  </tbody>\n",
       "</table>\n",
       "<p>10 rows × 35 columns</p>\n",
       "</div>"
      ],
      "text/plain": [
       "   product_id                product_name  aisle_id  department_id  prices  \\\n",
       "0           1  Chocolate Sandwich Cookies        61             19     5.8   \n",
       "1           1  Chocolate Sandwich Cookies        61             19     5.8   \n",
       "2           1  Chocolate Sandwich Cookies        61             19     5.8   \n",
       "3           1  Chocolate Sandwich Cookies        61             19     5.8   \n",
       "4           1  Chocolate Sandwich Cookies        61             19     5.8   \n",
       "5           1  Chocolate Sandwich Cookies        61             19     5.8   \n",
       "6           1  Chocolate Sandwich Cookies        61             19     5.8   \n",
       "7           1  Chocolate Sandwich Cookies        61             19     5.8   \n",
       "8           1  Chocolate Sandwich Cookies        61             19     5.8   \n",
       "9           1  Chocolate Sandwich Cookies        61             19     5.8   \n",
       "\n",
       "   order_id user_id eval_set  customers_current_order_count  \\\n",
       "0   3139998     138    prior                             28   \n",
       "1   1977647     138    prior                             30   \n",
       "2    389851     709    prior                              2   \n",
       "3    652770     764    prior                              1   \n",
       "4   1813452     764    prior                              3   \n",
       "5   1701441     777    prior                             16   \n",
       "6   1871483     825    prior                              3   \n",
       "7   1290456     910    prior                             12   \n",
       "8    369558    1052    prior                             10   \n",
       "9    589712    1052    prior                             15   \n",
       "\n",
       "   order_days_of_week  ...  first_name  surname  gender                 state  \\\n",
       "0                   6  ...     Charles      Cox    Male             Minnesota   \n",
       "1                   6  ...     Charles      Cox    Male             Minnesota   \n",
       "2                   0  ...     Deborah    Glass  Female               Vermont   \n",
       "3                   3  ...     Heather    Myers  Female             Wisconsin   \n",
       "4                   4  ...     Heather    Myers  Female             Wisconsin   \n",
       "5                   1  ...   Christina  Wallace  Female                Hawaii   \n",
       "6                   2  ...         nan    Parks    Male  District of Columbia   \n",
       "7                   3  ...      Sandra    Trejo  Female             Tennessee   \n",
       "8                   1  ...       Ralph   Avalos    Male                Oregon   \n",
       "9                   1  ...       Ralph   Avalos    Male                Oregon   \n",
       "\n",
       "  age date_joined n_dependents                        fam_status  income  \\\n",
       "0  81    8/1/2019            1                           married   49620   \n",
       "1  81    8/1/2019            1                           married   49620   \n",
       "2  66   6/16/2018            2                           married  158302   \n",
       "3  40    2/9/2020            3                           married   31308   \n",
       "4  40    2/9/2020            3                           married   31308   \n",
       "5  51    1/4/2019            2                           married   57797   \n",
       "6  20    5/8/2019            3  living with parents and siblings   34171   \n",
       "7  65   7/25/2019            0                  divorced/widowed   44856   \n",
       "8  72   3/30/2018            1                           married  153843   \n",
       "9  72   3/30/2018            1                           married  153843   \n",
       "\n",
       "   merging_status  \n",
       "0            both  \n",
       "1            both  \n",
       "2            both  \n",
       "3            both  \n",
       "4            both  \n",
       "5            both  \n",
       "6            both  \n",
       "7            both  \n",
       "8            both  \n",
       "9            both  \n",
       "\n",
       "[10 rows x 35 columns]"
      ]
     },
     "execution_count": 5,
     "metadata": {},
     "output_type": "execute_result"
    }
   ],
   "source": [
    "# Overview\n",
    "merged_df.head(10)"
   ]
  },
  {
   "cell_type": "markdown",
   "id": "f7526d4f-3698-4514-97f2-12f15618c1fa",
   "metadata": {},
   "source": [
    "### Create a regional segmentation of the data by creating a 'Region' Column based on the 'state' Column from the dataframe."
   ]
  },
  {
   "cell_type": "code",
   "execution_count": 6,
   "id": "73c86694-a982-4772-875f-3d3097b2fb22",
   "metadata": {},
   "outputs": [],
   "source": [
    "# Allocating the Divison 1 and 2 to the Northeast Region\n",
    "# Division 1\n",
    "merged_df.loc[merged_df['state'] == 'Maine', 'Region'] = 'Northeast'\n",
    "merged_df.loc[merged_df['state'] == 'New Hampshire', 'Region'] = 'Northeast'\n",
    "merged_df.loc[merged_df['state'] == 'Vermont', 'Region'] = 'Northeast'\n",
    "merged_df.loc[merged_df['state'] == 'Massachusetts', 'Region'] = 'Northeast'\n",
    "merged_df.loc[merged_df['state'] == 'Rhode Island', 'Region'] = 'Northeast'\n",
    "merged_df.loc[merged_df['state'] == 'Connecticut', 'Region'] = 'Northeast'\n",
    "# Division 2\n",
    "merged_df.loc[merged_df['state'] == 'New York', 'Region'] = 'Northeast'\n",
    "merged_df.loc[merged_df['state'] == 'Pennsylvania', 'Region'] = 'Northeast'\n",
    "merged_df.loc[merged_df['state'] == 'New Jersey', 'Region'] = 'Northeast'"
   ]
  },
  {
   "cell_type": "code",
   "execution_count": 7,
   "id": "075cde07-aef6-4c47-85b1-83c207b5455a",
   "metadata": {},
   "outputs": [],
   "source": [
    "# Allocating the Division  3 and 4 to the Midwest Region\n",
    "# Division 3\n",
    "merged_df.loc[merged_df['state'] == 'Wisconsin', 'Region'] = 'Midwest'\n",
    "merged_df.loc[merged_df['state'] == 'Michigan', 'Region'] = 'Midwest'\n",
    "merged_df.loc[merged_df['state'] == 'Illinois', 'Region'] = 'Midwest'\n",
    "merged_df.loc[merged_df['state'] == 'Indiana', 'Region'] = 'Midwest'\n",
    "merged_df.loc[merged_df['state'] == 'Ohio', 'Region'] = 'Midwest'\n",
    "# Division 4\n",
    "merged_df.loc[merged_df['state'] == 'North Dakota', 'Region'] = 'Midwest'\n",
    "merged_df.loc[merged_df['state'] == 'South Dakota', 'Region'] = 'Midwest'\n",
    "merged_df.loc[merged_df['state'] == 'Nebraska', 'Region'] = 'Midwest'\n",
    "merged_df.loc[merged_df['state'] == 'Kansas', 'Region'] = 'Midwest'\n",
    "merged_df.loc[merged_df['state'] == 'Minnesota', 'Region'] = 'Midwest'\n",
    "merged_df.loc[merged_df['state'] == 'Iowa', 'Region'] = 'Midwest'\n",
    "merged_df.loc[merged_df['state'] == 'Missouri', 'Region'] = 'Midwest'"
   ]
  },
  {
   "cell_type": "code",
   "execution_count": 8,
   "id": "38e0e374-ace1-4d89-902f-90263cdb7ee3",
   "metadata": {},
   "outputs": [],
   "source": [
    "# Allocating the Division 5, 6 and 7 to the South Region\n",
    "# Division 5\n",
    "merged_df.loc[merged_df['state'] == 'Delaware', 'Region'] = 'South'\n",
    "merged_df.loc[merged_df['state'] == 'Maryland', 'Region'] = 'South'\n",
    "merged_df.loc[merged_df['state'] == 'District of Columbia', 'Region'] = 'South'\n",
    "merged_df.loc[merged_df['state'] == 'Virginia', 'Region'] = 'South'\n",
    "merged_df.loc[merged_df['state'] == 'West Virginia', 'Region'] = 'South'\n",
    "merged_df.loc[merged_df['state'] == 'North Carolina', 'Region'] = 'South'\n",
    "merged_df.loc[merged_df['state'] == 'South Carolina', 'Region'] = 'South'\n",
    "merged_df.loc[merged_df['state'] == 'Georgia', 'Region'] = 'South'\n",
    "merged_df.loc[merged_df['state'] == 'Florida', 'Region'] = 'South'\n",
    "# Division 6\n",
    "merged_df.loc[merged_df['state'] == 'Kentucky', 'Region'] = 'South'\n",
    "merged_df.loc[merged_df['state'] == 'Tennessee', 'Region'] = 'South'\n",
    "merged_df.loc[merged_df['state'] == 'Mississippi', 'Region'] = 'South'\n",
    "merged_df.loc[merged_df['state'] == 'Alabama', 'Region'] = 'South'\n",
    "# Division 7\n",
    "merged_df.loc[merged_df['state'] == 'Oklahoma', 'Region'] = 'South'\n",
    "merged_df.loc[merged_df['state'] == 'Texas', 'Region'] = 'South'\n",
    "merged_df.loc[merged_df['state'] == 'Arkansas', 'Region'] = 'South'\n",
    "merged_df.loc[merged_df['state'] == 'Louisiana', 'Region'] = 'South'"
   ]
  },
  {
   "cell_type": "code",
   "execution_count": 9,
   "id": "9b4a2314-11a7-476f-a02c-88b7cda9bd8e",
   "metadata": {},
   "outputs": [],
   "source": [
    "# Allocating the Division 8 and 9 to the West Region\n",
    "# Division 8\n",
    "merged_df.loc[merged_df['state'] == 'Idaho', 'Region'] = 'West'\n",
    "merged_df.loc[merged_df['state'] == 'Montana', 'Region'] = 'West'\n",
    "merged_df.loc[merged_df['state'] == 'Wyoming', 'Region'] = 'West'\n",
    "merged_df.loc[merged_df['state'] == 'Nevada', 'Region'] = 'West'\n",
    "merged_df.loc[merged_df['state'] == 'Utah', 'Region'] = 'West'\n",
    "merged_df.loc[merged_df['state'] == 'Colorado', 'Region'] = 'West'\n",
    "merged_df.loc[merged_df['state'] == 'Arizona', 'Region'] = 'West'\n",
    "merged_df.loc[merged_df['state'] == 'New Mexico', 'Region'] = 'West'\n",
    "# Division 9\n",
    "merged_df.loc[merged_df['state'] == 'Alaska', 'Region'] = 'West'\n",
    "merged_df.loc[merged_df['state'] == 'Washington', 'Region'] = 'West'\n",
    "merged_df.loc[merged_df['state'] == 'Oregon', 'Region'] = 'West'\n",
    "merged_df.loc[merged_df['state'] == 'California', 'Region'] = 'West'\n",
    "merged_df.loc[merged_df['state'] == 'Hawaii', 'Region'] = 'West'"
   ]
  },
  {
   "cell_type": "code",
   "execution_count": 10,
   "id": "fb15ac1a-cb4a-4083-bc33-f78fb45b7280",
   "metadata": {},
   "outputs": [
    {
     "data": {
      "text/html": [
       "<div>\n",
       "<style scoped>\n",
       "    .dataframe tbody tr th:only-of-type {\n",
       "        vertical-align: middle;\n",
       "    }\n",
       "\n",
       "    .dataframe tbody tr th {\n",
       "        vertical-align: top;\n",
       "    }\n",
       "\n",
       "    .dataframe thead th {\n",
       "        text-align: right;\n",
       "    }\n",
       "</style>\n",
       "<table border=\"1\" class=\"dataframe\">\n",
       "  <thead>\n",
       "    <tr style=\"text-align: right;\">\n",
       "      <th></th>\n",
       "      <th>product_id</th>\n",
       "      <th>product_name</th>\n",
       "      <th>aisle_id</th>\n",
       "      <th>department_id</th>\n",
       "      <th>prices</th>\n",
       "      <th>order_id</th>\n",
       "      <th>user_id</th>\n",
       "      <th>eval_set</th>\n",
       "      <th>customers_current_order_count</th>\n",
       "      <th>order_days_of_week</th>\n",
       "      <th>...</th>\n",
       "      <th>surname</th>\n",
       "      <th>gender</th>\n",
       "      <th>state</th>\n",
       "      <th>age</th>\n",
       "      <th>date_joined</th>\n",
       "      <th>n_dependents</th>\n",
       "      <th>fam_status</th>\n",
       "      <th>income</th>\n",
       "      <th>merging_status</th>\n",
       "      <th>Region</th>\n",
       "    </tr>\n",
       "  </thead>\n",
       "  <tbody>\n",
       "    <tr>\n",
       "      <th>0</th>\n",
       "      <td>1</td>\n",
       "      <td>Chocolate Sandwich Cookies</td>\n",
       "      <td>61</td>\n",
       "      <td>19</td>\n",
       "      <td>5.8</td>\n",
       "      <td>3139998</td>\n",
       "      <td>138</td>\n",
       "      <td>prior</td>\n",
       "      <td>28</td>\n",
       "      <td>6</td>\n",
       "      <td>...</td>\n",
       "      <td>Cox</td>\n",
       "      <td>Male</td>\n",
       "      <td>Minnesota</td>\n",
       "      <td>81</td>\n",
       "      <td>8/1/2019</td>\n",
       "      <td>1</td>\n",
       "      <td>married</td>\n",
       "      <td>49620</td>\n",
       "      <td>both</td>\n",
       "      <td>Midwest</td>\n",
       "    </tr>\n",
       "    <tr>\n",
       "      <th>1</th>\n",
       "      <td>1</td>\n",
       "      <td>Chocolate Sandwich Cookies</td>\n",
       "      <td>61</td>\n",
       "      <td>19</td>\n",
       "      <td>5.8</td>\n",
       "      <td>1977647</td>\n",
       "      <td>138</td>\n",
       "      <td>prior</td>\n",
       "      <td>30</td>\n",
       "      <td>6</td>\n",
       "      <td>...</td>\n",
       "      <td>Cox</td>\n",
       "      <td>Male</td>\n",
       "      <td>Minnesota</td>\n",
       "      <td>81</td>\n",
       "      <td>8/1/2019</td>\n",
       "      <td>1</td>\n",
       "      <td>married</td>\n",
       "      <td>49620</td>\n",
       "      <td>both</td>\n",
       "      <td>Midwest</td>\n",
       "    </tr>\n",
       "    <tr>\n",
       "      <th>2</th>\n",
       "      <td>1</td>\n",
       "      <td>Chocolate Sandwich Cookies</td>\n",
       "      <td>61</td>\n",
       "      <td>19</td>\n",
       "      <td>5.8</td>\n",
       "      <td>389851</td>\n",
       "      <td>709</td>\n",
       "      <td>prior</td>\n",
       "      <td>2</td>\n",
       "      <td>0</td>\n",
       "      <td>...</td>\n",
       "      <td>Glass</td>\n",
       "      <td>Female</td>\n",
       "      <td>Vermont</td>\n",
       "      <td>66</td>\n",
       "      <td>6/16/2018</td>\n",
       "      <td>2</td>\n",
       "      <td>married</td>\n",
       "      <td>158302</td>\n",
       "      <td>both</td>\n",
       "      <td>Northeast</td>\n",
       "    </tr>\n",
       "    <tr>\n",
       "      <th>3</th>\n",
       "      <td>1</td>\n",
       "      <td>Chocolate Sandwich Cookies</td>\n",
       "      <td>61</td>\n",
       "      <td>19</td>\n",
       "      <td>5.8</td>\n",
       "      <td>652770</td>\n",
       "      <td>764</td>\n",
       "      <td>prior</td>\n",
       "      <td>1</td>\n",
       "      <td>3</td>\n",
       "      <td>...</td>\n",
       "      <td>Myers</td>\n",
       "      <td>Female</td>\n",
       "      <td>Wisconsin</td>\n",
       "      <td>40</td>\n",
       "      <td>2/9/2020</td>\n",
       "      <td>3</td>\n",
       "      <td>married</td>\n",
       "      <td>31308</td>\n",
       "      <td>both</td>\n",
       "      <td>Midwest</td>\n",
       "    </tr>\n",
       "    <tr>\n",
       "      <th>4</th>\n",
       "      <td>1</td>\n",
       "      <td>Chocolate Sandwich Cookies</td>\n",
       "      <td>61</td>\n",
       "      <td>19</td>\n",
       "      <td>5.8</td>\n",
       "      <td>1813452</td>\n",
       "      <td>764</td>\n",
       "      <td>prior</td>\n",
       "      <td>3</td>\n",
       "      <td>4</td>\n",
       "      <td>...</td>\n",
       "      <td>Myers</td>\n",
       "      <td>Female</td>\n",
       "      <td>Wisconsin</td>\n",
       "      <td>40</td>\n",
       "      <td>2/9/2020</td>\n",
       "      <td>3</td>\n",
       "      <td>married</td>\n",
       "      <td>31308</td>\n",
       "      <td>both</td>\n",
       "      <td>Midwest</td>\n",
       "    </tr>\n",
       "    <tr>\n",
       "      <th>5</th>\n",
       "      <td>1</td>\n",
       "      <td>Chocolate Sandwich Cookies</td>\n",
       "      <td>61</td>\n",
       "      <td>19</td>\n",
       "      <td>5.8</td>\n",
       "      <td>1701441</td>\n",
       "      <td>777</td>\n",
       "      <td>prior</td>\n",
       "      <td>16</td>\n",
       "      <td>1</td>\n",
       "      <td>...</td>\n",
       "      <td>Wallace</td>\n",
       "      <td>Female</td>\n",
       "      <td>Hawaii</td>\n",
       "      <td>51</td>\n",
       "      <td>1/4/2019</td>\n",
       "      <td>2</td>\n",
       "      <td>married</td>\n",
       "      <td>57797</td>\n",
       "      <td>both</td>\n",
       "      <td>West</td>\n",
       "    </tr>\n",
       "    <tr>\n",
       "      <th>6</th>\n",
       "      <td>1</td>\n",
       "      <td>Chocolate Sandwich Cookies</td>\n",
       "      <td>61</td>\n",
       "      <td>19</td>\n",
       "      <td>5.8</td>\n",
       "      <td>1871483</td>\n",
       "      <td>825</td>\n",
       "      <td>prior</td>\n",
       "      <td>3</td>\n",
       "      <td>2</td>\n",
       "      <td>...</td>\n",
       "      <td>Parks</td>\n",
       "      <td>Male</td>\n",
       "      <td>District of Columbia</td>\n",
       "      <td>20</td>\n",
       "      <td>5/8/2019</td>\n",
       "      <td>3</td>\n",
       "      <td>living with parents and siblings</td>\n",
       "      <td>34171</td>\n",
       "      <td>both</td>\n",
       "      <td>South</td>\n",
       "    </tr>\n",
       "    <tr>\n",
       "      <th>7</th>\n",
       "      <td>1</td>\n",
       "      <td>Chocolate Sandwich Cookies</td>\n",
       "      <td>61</td>\n",
       "      <td>19</td>\n",
       "      <td>5.8</td>\n",
       "      <td>1290456</td>\n",
       "      <td>910</td>\n",
       "      <td>prior</td>\n",
       "      <td>12</td>\n",
       "      <td>3</td>\n",
       "      <td>...</td>\n",
       "      <td>Trejo</td>\n",
       "      <td>Female</td>\n",
       "      <td>Tennessee</td>\n",
       "      <td>65</td>\n",
       "      <td>7/25/2019</td>\n",
       "      <td>0</td>\n",
       "      <td>divorced/widowed</td>\n",
       "      <td>44856</td>\n",
       "      <td>both</td>\n",
       "      <td>South</td>\n",
       "    </tr>\n",
       "    <tr>\n",
       "      <th>8</th>\n",
       "      <td>1</td>\n",
       "      <td>Chocolate Sandwich Cookies</td>\n",
       "      <td>61</td>\n",
       "      <td>19</td>\n",
       "      <td>5.8</td>\n",
       "      <td>369558</td>\n",
       "      <td>1052</td>\n",
       "      <td>prior</td>\n",
       "      <td>10</td>\n",
       "      <td>1</td>\n",
       "      <td>...</td>\n",
       "      <td>Avalos</td>\n",
       "      <td>Male</td>\n",
       "      <td>Oregon</td>\n",
       "      <td>72</td>\n",
       "      <td>3/30/2018</td>\n",
       "      <td>1</td>\n",
       "      <td>married</td>\n",
       "      <td>153843</td>\n",
       "      <td>both</td>\n",
       "      <td>West</td>\n",
       "    </tr>\n",
       "    <tr>\n",
       "      <th>9</th>\n",
       "      <td>1</td>\n",
       "      <td>Chocolate Sandwich Cookies</td>\n",
       "      <td>61</td>\n",
       "      <td>19</td>\n",
       "      <td>5.8</td>\n",
       "      <td>589712</td>\n",
       "      <td>1052</td>\n",
       "      <td>prior</td>\n",
       "      <td>15</td>\n",
       "      <td>1</td>\n",
       "      <td>...</td>\n",
       "      <td>Avalos</td>\n",
       "      <td>Male</td>\n",
       "      <td>Oregon</td>\n",
       "      <td>72</td>\n",
       "      <td>3/30/2018</td>\n",
       "      <td>1</td>\n",
       "      <td>married</td>\n",
       "      <td>153843</td>\n",
       "      <td>both</td>\n",
       "      <td>West</td>\n",
       "    </tr>\n",
       "  </tbody>\n",
       "</table>\n",
       "<p>10 rows × 36 columns</p>\n",
       "</div>"
      ],
      "text/plain": [
       "   product_id                product_name  aisle_id  department_id  prices  \\\n",
       "0           1  Chocolate Sandwich Cookies        61             19     5.8   \n",
       "1           1  Chocolate Sandwich Cookies        61             19     5.8   \n",
       "2           1  Chocolate Sandwich Cookies        61             19     5.8   \n",
       "3           1  Chocolate Sandwich Cookies        61             19     5.8   \n",
       "4           1  Chocolate Sandwich Cookies        61             19     5.8   \n",
       "5           1  Chocolate Sandwich Cookies        61             19     5.8   \n",
       "6           1  Chocolate Sandwich Cookies        61             19     5.8   \n",
       "7           1  Chocolate Sandwich Cookies        61             19     5.8   \n",
       "8           1  Chocolate Sandwich Cookies        61             19     5.8   \n",
       "9           1  Chocolate Sandwich Cookies        61             19     5.8   \n",
       "\n",
       "   order_id user_id eval_set  customers_current_order_count  \\\n",
       "0   3139998     138    prior                             28   \n",
       "1   1977647     138    prior                             30   \n",
       "2    389851     709    prior                              2   \n",
       "3    652770     764    prior                              1   \n",
       "4   1813452     764    prior                              3   \n",
       "5   1701441     777    prior                             16   \n",
       "6   1871483     825    prior                              3   \n",
       "7   1290456     910    prior                             12   \n",
       "8    369558    1052    prior                             10   \n",
       "9    589712    1052    prior                             15   \n",
       "\n",
       "   order_days_of_week  ...  surname  gender                 state  age  \\\n",
       "0                   6  ...      Cox    Male             Minnesota   81   \n",
       "1                   6  ...      Cox    Male             Minnesota   81   \n",
       "2                   0  ...    Glass  Female               Vermont   66   \n",
       "3                   3  ...    Myers  Female             Wisconsin   40   \n",
       "4                   4  ...    Myers  Female             Wisconsin   40   \n",
       "5                   1  ...  Wallace  Female                Hawaii   51   \n",
       "6                   2  ...    Parks    Male  District of Columbia   20   \n",
       "7                   3  ...    Trejo  Female             Tennessee   65   \n",
       "8                   1  ...   Avalos    Male                Oregon   72   \n",
       "9                   1  ...   Avalos    Male                Oregon   72   \n",
       "\n",
       "  date_joined n_dependents                        fam_status  income  \\\n",
       "0    8/1/2019            1                           married   49620   \n",
       "1    8/1/2019            1                           married   49620   \n",
       "2   6/16/2018            2                           married  158302   \n",
       "3    2/9/2020            3                           married   31308   \n",
       "4    2/9/2020            3                           married   31308   \n",
       "5    1/4/2019            2                           married   57797   \n",
       "6    5/8/2019            3  living with parents and siblings   34171   \n",
       "7   7/25/2019            0                  divorced/widowed   44856   \n",
       "8   3/30/2018            1                           married  153843   \n",
       "9   3/30/2018            1                           married  153843   \n",
       "\n",
       "  merging_status     Region  \n",
       "0           both    Midwest  \n",
       "1           both    Midwest  \n",
       "2           both  Northeast  \n",
       "3           both    Midwest  \n",
       "4           both    Midwest  \n",
       "5           both       West  \n",
       "6           both      South  \n",
       "7           both      South  \n",
       "8           both       West  \n",
       "9           both       West  \n",
       "\n",
       "[10 rows x 36 columns]"
      ]
     },
     "execution_count": 10,
     "metadata": {},
     "output_type": "execute_result"
    }
   ],
   "source": [
    "# Verify the Allocation of the 'Region' column in the Dataframe\n",
    "merged_df.head(10)"
   ]
  },
  {
   "cell_type": "code",
   "execution_count": 11,
   "id": "31f820f3-c5c3-4de5-b688-7170bd200c9c",
   "metadata": {},
   "outputs": [],
   "source": [
    "# Evaluate the differences in spending habits across different regions\n",
    "crosstab = pd.crosstab(merged_df['Region'], merged_df['income'], dropna = False)"
   ]
  },
  {
   "cell_type": "code",
   "execution_count": 12,
   "id": "3ea171f6-ab19-4cfd-b1ef-2ca9a2ecb069",
   "metadata": {},
   "outputs": [],
   "source": [
    "# Copy the output to the clipboard\n",
    "crosstab.to_clipboard()"
   ]
  },
  {
   "cell_type": "code",
   "execution_count": 13,
   "id": "a2ffe9f2-cac6-4a22-808f-47984aaaa68b",
   "metadata": {},
   "outputs": [],
   "source": [
    "# Export the updated Dataframe\n",
    "#merged_df.to_pickle(os.path.join(path, '02 Data', 'Prepared Data', 'ords_prods_cust_merge.pkl'))"
   ]
  },
  {
   "cell_type": "markdown",
   "id": "3166ec9a-94f5-4f72-94e3-30060af681fc",
   "metadata": {},
   "source": [
    "### Observation\n",
    "The count of spenders is spread out throughout the output across different regions. Therefore, it is inconclusive as to which region has the most spenders. Making an assumption in this scenario is not wise, as there could be other factors in play here; due to which the spending habits of the residents is demonstrated as scattered result.  "
   ]
  },
  {
   "cell_type": "code",
   "execution_count": 14,
   "id": "ec514761-edd6-4f75-bf47-9baa42052777",
   "metadata": {},
   "outputs": [],
   "source": [
    "# Create a exclusion flag for the low activity customers(less than 5 orders)\n",
    "merged_df.loc[merged_df['max_order'] < 5, 'Customer_Activity'] = 'LOW'\n",
    "merged_df.loc[merged_df['max_order'] >= 5, 'Customer_Activity'] = 'HIGH'"
   ]
  },
  {
   "cell_type": "code",
   "execution_count": 15,
   "id": "5588b650-1211-4782-a29f-e0a6b0bea330",
   "metadata": {},
   "outputs": [
    {
     "data": {
      "text/html": [
       "<div>\n",
       "<style scoped>\n",
       "    .dataframe tbody tr th:only-of-type {\n",
       "        vertical-align: middle;\n",
       "    }\n",
       "\n",
       "    .dataframe tbody tr th {\n",
       "        vertical-align: top;\n",
       "    }\n",
       "\n",
       "    .dataframe thead th {\n",
       "        text-align: right;\n",
       "    }\n",
       "</style>\n",
       "<table border=\"1\" class=\"dataframe\">\n",
       "  <thead>\n",
       "    <tr style=\"text-align: right;\">\n",
       "      <th></th>\n",
       "      <th>product_id</th>\n",
       "      <th>product_name</th>\n",
       "      <th>aisle_id</th>\n",
       "      <th>department_id</th>\n",
       "      <th>prices</th>\n",
       "      <th>order_id</th>\n",
       "      <th>user_id</th>\n",
       "      <th>eval_set</th>\n",
       "      <th>customers_current_order_count</th>\n",
       "      <th>order_days_of_week</th>\n",
       "      <th>...</th>\n",
       "      <th>gender</th>\n",
       "      <th>state</th>\n",
       "      <th>age</th>\n",
       "      <th>date_joined</th>\n",
       "      <th>n_dependents</th>\n",
       "      <th>fam_status</th>\n",
       "      <th>income</th>\n",
       "      <th>merging_status</th>\n",
       "      <th>Region</th>\n",
       "      <th>Customer_Activity</th>\n",
       "    </tr>\n",
       "  </thead>\n",
       "  <tbody>\n",
       "    <tr>\n",
       "      <th>0</th>\n",
       "      <td>1</td>\n",
       "      <td>Chocolate Sandwich Cookies</td>\n",
       "      <td>61</td>\n",
       "      <td>19</td>\n",
       "      <td>5.8</td>\n",
       "      <td>3139998</td>\n",
       "      <td>138</td>\n",
       "      <td>prior</td>\n",
       "      <td>28</td>\n",
       "      <td>6</td>\n",
       "      <td>...</td>\n",
       "      <td>Male</td>\n",
       "      <td>Minnesota</td>\n",
       "      <td>81</td>\n",
       "      <td>8/1/2019</td>\n",
       "      <td>1</td>\n",
       "      <td>married</td>\n",
       "      <td>49620</td>\n",
       "      <td>both</td>\n",
       "      <td>Midwest</td>\n",
       "      <td>HIGH</td>\n",
       "    </tr>\n",
       "    <tr>\n",
       "      <th>1</th>\n",
       "      <td>1</td>\n",
       "      <td>Chocolate Sandwich Cookies</td>\n",
       "      <td>61</td>\n",
       "      <td>19</td>\n",
       "      <td>5.8</td>\n",
       "      <td>1977647</td>\n",
       "      <td>138</td>\n",
       "      <td>prior</td>\n",
       "      <td>30</td>\n",
       "      <td>6</td>\n",
       "      <td>...</td>\n",
       "      <td>Male</td>\n",
       "      <td>Minnesota</td>\n",
       "      <td>81</td>\n",
       "      <td>8/1/2019</td>\n",
       "      <td>1</td>\n",
       "      <td>married</td>\n",
       "      <td>49620</td>\n",
       "      <td>both</td>\n",
       "      <td>Midwest</td>\n",
       "      <td>HIGH</td>\n",
       "    </tr>\n",
       "    <tr>\n",
       "      <th>2</th>\n",
       "      <td>1</td>\n",
       "      <td>Chocolate Sandwich Cookies</td>\n",
       "      <td>61</td>\n",
       "      <td>19</td>\n",
       "      <td>5.8</td>\n",
       "      <td>389851</td>\n",
       "      <td>709</td>\n",
       "      <td>prior</td>\n",
       "      <td>2</td>\n",
       "      <td>0</td>\n",
       "      <td>...</td>\n",
       "      <td>Female</td>\n",
       "      <td>Vermont</td>\n",
       "      <td>66</td>\n",
       "      <td>6/16/2018</td>\n",
       "      <td>2</td>\n",
       "      <td>married</td>\n",
       "      <td>158302</td>\n",
       "      <td>both</td>\n",
       "      <td>Northeast</td>\n",
       "      <td>HIGH</td>\n",
       "    </tr>\n",
       "    <tr>\n",
       "      <th>3</th>\n",
       "      <td>1</td>\n",
       "      <td>Chocolate Sandwich Cookies</td>\n",
       "      <td>61</td>\n",
       "      <td>19</td>\n",
       "      <td>5.8</td>\n",
       "      <td>652770</td>\n",
       "      <td>764</td>\n",
       "      <td>prior</td>\n",
       "      <td>1</td>\n",
       "      <td>3</td>\n",
       "      <td>...</td>\n",
       "      <td>Female</td>\n",
       "      <td>Wisconsin</td>\n",
       "      <td>40</td>\n",
       "      <td>2/9/2020</td>\n",
       "      <td>3</td>\n",
       "      <td>married</td>\n",
       "      <td>31308</td>\n",
       "      <td>both</td>\n",
       "      <td>Midwest</td>\n",
       "      <td>HIGH</td>\n",
       "    </tr>\n",
       "    <tr>\n",
       "      <th>4</th>\n",
       "      <td>1</td>\n",
       "      <td>Chocolate Sandwich Cookies</td>\n",
       "      <td>61</td>\n",
       "      <td>19</td>\n",
       "      <td>5.8</td>\n",
       "      <td>1813452</td>\n",
       "      <td>764</td>\n",
       "      <td>prior</td>\n",
       "      <td>3</td>\n",
       "      <td>4</td>\n",
       "      <td>...</td>\n",
       "      <td>Female</td>\n",
       "      <td>Wisconsin</td>\n",
       "      <td>40</td>\n",
       "      <td>2/9/2020</td>\n",
       "      <td>3</td>\n",
       "      <td>married</td>\n",
       "      <td>31308</td>\n",
       "      <td>both</td>\n",
       "      <td>Midwest</td>\n",
       "      <td>HIGH</td>\n",
       "    </tr>\n",
       "  </tbody>\n",
       "</table>\n",
       "<p>5 rows × 37 columns</p>\n",
       "</div>"
      ],
      "text/plain": [
       "   product_id                product_name  aisle_id  department_id  prices  \\\n",
       "0           1  Chocolate Sandwich Cookies        61             19     5.8   \n",
       "1           1  Chocolate Sandwich Cookies        61             19     5.8   \n",
       "2           1  Chocolate Sandwich Cookies        61             19     5.8   \n",
       "3           1  Chocolate Sandwich Cookies        61             19     5.8   \n",
       "4           1  Chocolate Sandwich Cookies        61             19     5.8   \n",
       "\n",
       "   order_id user_id eval_set  customers_current_order_count  \\\n",
       "0   3139998     138    prior                             28   \n",
       "1   1977647     138    prior                             30   \n",
       "2    389851     709    prior                              2   \n",
       "3    652770     764    prior                              1   \n",
       "4   1813452     764    prior                              3   \n",
       "\n",
       "   order_days_of_week  ...  gender      state  age  date_joined n_dependents  \\\n",
       "0                   6  ...    Male  Minnesota   81     8/1/2019            1   \n",
       "1                   6  ...    Male  Minnesota   81     8/1/2019            1   \n",
       "2                   0  ...  Female    Vermont   66    6/16/2018            2   \n",
       "3                   3  ...  Female  Wisconsin   40     2/9/2020            3   \n",
       "4                   4  ...  Female  Wisconsin   40     2/9/2020            3   \n",
       "\n",
       "  fam_status  income merging_status     Region  Customer_Activity  \n",
       "0    married   49620           both    Midwest               HIGH  \n",
       "1    married   49620           both    Midwest               HIGH  \n",
       "2    married  158302           both  Northeast               HIGH  \n",
       "3    married   31308           both    Midwest               HIGH  \n",
       "4    married   31308           both    Midwest               HIGH  \n",
       "\n",
       "[5 rows x 37 columns]"
      ]
     },
     "execution_count": 15,
     "metadata": {},
     "output_type": "execute_result"
    }
   ],
   "source": [
    "# Verify the newly generated Customer_Activity Column in the Dataframe\n",
    "merged_df.head()"
   ]
  },
  {
   "cell_type": "code",
   "execution_count": 16,
   "id": "17a88739-4747-4799-a732-e7ab711ee6b2",
   "metadata": {},
   "outputs": [
    {
     "data": {
      "text/plain": [
       "(32404859, 37)"
      ]
     },
     "execution_count": 16,
     "metadata": {},
     "output_type": "execute_result"
    }
   ],
   "source": [
    "# Verify the rows and columns in the Dataframe\n",
    "merged_df.shape"
   ]
  },
  {
   "cell_type": "code",
   "execution_count": 17,
   "id": "21a5a53c-4172-4d6e-be5d-3aea19a3657d",
   "metadata": {},
   "outputs": [
    {
     "data": {
      "text/plain": [
       "Customer_Activity\n",
       "HIGH    32404859\n",
       "Name: count, dtype: int64"
      ]
     },
     "execution_count": 17,
     "metadata": {},
     "output_type": "execute_result"
    }
   ],
   "source": [
    "# Count of the Customer_Activity Column\n",
    "merged_df['Customer_Activity'].value_counts(dropna = False)"
   ]
  },
  {
   "cell_type": "code",
   "execution_count": 18,
   "id": "f0018c7f-22a4-4174-b3ab-cde07b5162d0",
   "metadata": {},
   "outputs": [],
   "source": [
    "updated_df = merged_df.loc[merged_df[\"Customer_Activity\"] != \"LOW\"]\n",
    "\n"
   ]
  },
  {
   "cell_type": "markdown",
   "id": "782123e8-0e53-4446-a60b-58df98ce3b0a",
   "metadata": {},
   "source": [
    "### Generate a profiling variable based on Age, Income, Certain Goods in the \"department_id\" column, and the number of dependants."
   ]
  },
  {
   "cell_type": "code",
   "execution_count": 19,
   "id": "e8103bbc-6879-4c57-9869-5a59b2785b82",
   "metadata": {},
   "outputs": [],
   "source": [
    "# Generate an Age Group Variable\n",
    "updated_df.loc[updated_df['age'] <= 25, 'Age Group'] = 'Youth'\n",
    "updated_df.loc[(updated_df['age'] > 25) & (updated_df['age'] <= 64), 'Age Group'] = 'Adults'\n",
    "updated_df.loc[updated_df['age'] > 64, 'Age Group'] = 'Senior'"
   ]
  },
  {
   "cell_type": "code",
   "execution_count": 20,
   "id": "1cb6eb1f-9e7a-4095-a8c9-56a4b6bc58cc",
   "metadata": {},
   "outputs": [],
   "source": [
    "# Verify the Age Group Variable\n",
    "Count_AgeGroup = updated_df['Age Group'].value_counts(dropna = False)"
   ]
  },
  {
   "cell_type": "code",
   "execution_count": 21,
   "id": "a5ff25b2-5ff1-4c10-a88f-f42e1a859ee1",
   "metadata": {},
   "outputs": [
    {
     "data": {
      "text/plain": [
       "Age Group\n",
       "Adults    19784586\n",
       "Senior     8575084\n",
       "Youth      4045189\n",
       "Name: count, dtype: int64"
      ]
     },
     "execution_count": 21,
     "metadata": {},
     "output_type": "execute_result"
    }
   ],
   "source": [
    "Count_AgeGroup"
   ]
  },
  {
   "cell_type": "code",
   "execution_count": 22,
   "id": "deae89fc-63de-43db-87d2-6015609ff565",
   "metadata": {},
   "outputs": [
    {
     "data": {
      "image/png": "[encoded data removed]",
      "text/plain": [
       "<Figure size 640x480 with 1 Axes>"
      ]
     },
     "metadata": {},
     "output_type": "display_data"
    }
   ],
   "source": [
    "# Visualize a pie chart \n",
    "AgeGroup_PieChart = Count_AgeGroup.plot.pie(autopct='%1.1f%%', labels= ['Youth: <=25 years', 'Adult: 26-64 years', 'Senior: 65+ years'], startangle=90, colors=['#003f5c', '#bc5090', '#ffa600'])\n",
    "plt.title('Distribution of Age Groups')\n",
    "# Hide the y-label\n",
    "plt.ylabel('')\n",
    "plt.show()"
   ]
  },
  {
   "cell_type": "code",
   "execution_count": 23,
   "id": "db261c4b-80fd-4e13-8fcc-82e13b22f9cb",
   "metadata": {},
   "outputs": [],
   "source": [
    "# Export the Pie chart\n",
    "AgeGroup_PieChart.figure.savefig(os.path.join(path, '04 Analysis','Visualizations', 'AgeGroup_PieChart.png'))"
   ]
  },
  {
   "cell_type": "code",
   "execution_count": 24,
   "id": "d564e065-7da8-4fd2-a00f-2072c0dc1d88",
   "metadata": {},
   "outputs": [],
   "source": [
    "# Generate an Income Group Variable\n",
    "updated_df.loc[updated_df['income'] <= 50000, 'Income Group'] = 'LOW'\n",
    "updated_df.loc[(updated_df['income'] > 50000) & (updated_df['income'] <= 150000), 'Income Group'] = 'MIDDLE'\n",
    "updated_df.loc[updated_df['income'] > 150000, 'Income Group'] = 'HIGH'"
   ]
  },
  {
   "cell_type": "code",
   "execution_count": 25,
   "id": "cdde7430-642b-4a76-9def-63c18e6aacc6",
   "metadata": {},
   "outputs": [],
   "source": [
    "# Verify the Income Group Variable\n",
    "Count_IncomeGroup = updated_df['Income Group'].value_counts(dropna = False)"
   ]
  },
  {
   "cell_type": "code",
   "execution_count": 26,
   "id": "71f863d9-ed4d-4c4e-9606-7ed3149fdea0",
   "metadata": {},
   "outputs": [
    {
     "data": {
      "text/plain": [
       "Income Group\n",
       "MIDDLE    24759936\n",
       "HIGH       4050840\n",
       "LOW        3594083\n",
       "Name: count, dtype: int64"
      ]
     },
     "execution_count": 26,
     "metadata": {},
     "output_type": "execute_result"
    }
   ],
   "source": [
    "Count_IncomeGroup"
   ]
  },
  {
   "cell_type": "code",
   "execution_count": 27,
   "id": "768cefc2-790b-4e65-ac7b-19dcf6368e2d",
   "metadata": {},
   "outputs": [
    {
     "data": {
      "image/png": "[encoded data removed]",
      "text/plain": [
       "<Figure size 640x480 with 1 Axes>"
      ]
     },
     "metadata": {},
     "output_type": "display_data"
    }
   ],
   "source": [
    "# Visualize a bar chart \n",
    "IncomeGroup_BarChart = Count_IncomeGroup.plot.bar()  \n",
    "plt.title('Distribution of Income Groups')\n",
    "# Hide the y-label\n",
    "plt.xlabel('')\n",
    "plt.ylabel('Count')\n",
    "plt.show()"
   ]
  },
  {
   "cell_type": "code",
   "execution_count": 28,
   "id": "2999e857-f666-4d77-86af-03d3542a255b",
   "metadata": {},
   "outputs": [],
   "source": [
    "# Export the bar chart\n",
    "IncomeGroup_BarChart.figure.savefig(os.path.join(path, '04 Analysis','Visualizations', 'IncomeGroup_BarChart.png'))"
   ]
  },
  {
   "cell_type": "code",
   "execution_count": 29,
   "id": "064752fc-5b1a-4b18-a220-858566a4c8bc",
   "metadata": {},
   "outputs": [
    {
     "data": {
      "text/plain": [
       "Index(['product_id', 'product_name', 'aisle_id', 'department_id', 'prices',\n",
       "       'order_id', 'user_id', 'eval_set', 'customers_current_order_count',\n",
       "       'order_days_of_week', 'order_hour_of_day', 'days_since_prior_order',\n",
       "       'add_to_cart_order', 'reordered', '_merge', 'price_range_loc',\n",
       "       'busiest_day', 'busiest_days', 'busiest_period_of_day', 'max_order',\n",
       "       'loyalty_flag', 'average_spend', 'spender_flag', 'Customer_frequency',\n",
       "       'frequency_flag', 'first_name', 'surname', 'gender', 'state', 'age',\n",
       "       'date_joined', 'n_dependents', 'fam_status', 'income', 'merging_status',\n",
       "       'Region', 'Customer_Activity', 'Age Group', 'Income Group'],\n",
       "      dtype='object')"
      ]
     },
     "execution_count": 29,
     "metadata": {},
     "output_type": "execute_result"
    }
   ],
   "source": [
    "updated_df.columns\n"
   ]
  },
  {
   "cell_type": "code",
   "execution_count": 30,
   "id": "30c6c3cc-a3a3-49e5-a983-d70826914ed3",
   "metadata": {},
   "outputs": [],
   "source": [
    "# Generate a dependent flag variablke\n",
    "updated_df.loc[updated_df['n_dependents'] == 0, 'dependents_flag'] = 'No Dependents'\n",
    "updated_df.loc[updated_df['n_dependents'] >= 1, 'dependents_flag'] = 'Has Dependents'"
   ]
  },
  {
   "cell_type": "code",
   "execution_count": 31,
   "id": "c87f64b2-a1a1-4af2-a7aa-3ab2138fa420",
   "metadata": {},
   "outputs": [],
   "source": [
    "# Verify the Dependent Variable\n",
    "Count_DependentGroup = updated_df['dependents_flag'].value_counts(dropna = False)"
   ]
  },
  {
   "cell_type": "code",
   "execution_count": 32,
   "id": "7d860e1b-5675-45f3-9688-f5f10321ab80",
   "metadata": {},
   "outputs": [
    {
     "data": {
      "text/plain": [
       "dependents_flag\n",
       "Has Dependents    24307356\n",
       "No Dependents      8097503\n",
       "Name: count, dtype: int64"
      ]
     },
     "execution_count": 32,
     "metadata": {},
     "output_type": "execute_result"
    }
   ],
   "source": [
    "Count_DependentGroup"
   ]
  },
  {
   "cell_type": "code",
   "execution_count": 33,
   "id": "68d922da-5fe6-4822-a3d9-dff985909355",
   "metadata": {},
   "outputs": [
    {
     "data": {
      "image/png": "[encoded data removed]",
      "text/plain": [
       "<Figure size 640x480 with 1 Axes>"
      ]
     },
     "metadata": {},
     "output_type": "display_data"
    }
   ],
   "source": [
    "# Visualize a pie chart\n",
    "DependentGroup_PieChart = Count_DependentGroup.plot.pie(autopct='%1.1f%%', labels= ['Have dependents', 'No dependents'], startangle=90, colors=['#003f5c', '#bc5090'])\n",
    "# Hide the y-label\n",
    "plt.ylabel('')  \n",
    "plt.title('Proportion of Dependents')\n",
    "plt.show()"
   ]
  },
  {
   "cell_type": "code",
   "execution_count": 34,
   "id": "e255ddcb-14fb-4cab-9db2-db5c0375fcb4",
   "metadata": {},
   "outputs": [],
   "source": [
    "# Export the pie chart\n",
    "DependentGroup_PieChart.figure.savefig(os.path.join(path, '04 Analysis','Visualizations', 'DependentGroup_PieChart.png'))"
   ]
  },
  {
   "cell_type": "code",
   "execution_count": 35,
   "id": "ceb41718-d747-4b68-8c70-8c823d422640",
   "metadata": {},
   "outputs": [],
   "source": [
    "# Using crosstab functiion on loyalty_flag and Age Group\n",
    "crosstab_LoyaltyAgeGroup = pd.crosstab(updated_df['loyalty_flag'], updated_df['Age Group'], dropna = False)"
   ]
  },
  {
   "cell_type": "code",
   "execution_count": 36,
   "id": "1f9a1c5d-c95b-41c5-aeef-d82a40f3f1c0",
   "metadata": {},
   "outputs": [
    {
     "data": {
      "text/html": [
       "<div>\n",
       "<style scoped>\n",
       "    .dataframe tbody tr th:only-of-type {\n",
       "        vertical-align: middle;\n",
       "    }\n",
       "\n",
       "    .dataframe tbody tr th {\n",
       "        vertical-align: top;\n",
       "    }\n",
       "\n",
       "    .dataframe thead th {\n",
       "        text-align: right;\n",
       "    }\n",
       "</style>\n",
       "<table border=\"1\" class=\"dataframe\">\n",
       "  <thead>\n",
       "    <tr style=\"text-align: right;\">\n",
       "      <th>Age Group</th>\n",
       "      <th>Adults</th>\n",
       "      <th>Senior</th>\n",
       "      <th>Youth</th>\n",
       "    </tr>\n",
       "    <tr>\n",
       "      <th>loyalty_flag</th>\n",
       "      <th></th>\n",
       "      <th></th>\n",
       "      <th></th>\n",
       "    </tr>\n",
       "  </thead>\n",
       "  <tbody>\n",
       "    <tr>\n",
       "      <th>Loyal customer</th>\n",
       "      <td>19784586</td>\n",
       "      <td>8575084</td>\n",
       "      <td>4045189</td>\n",
       "    </tr>\n",
       "  </tbody>\n",
       "</table>\n",
       "</div>"
      ],
      "text/plain": [
       "Age Group         Adults   Senior    Youth\n",
       "loyalty_flag                              \n",
       "Loyal customer  19784586  8575084  4045189"
      ]
     },
     "execution_count": 36,
     "metadata": {},
     "output_type": "execute_result"
    }
   ],
   "source": [
    "crosstab_LoyaltyAgeGroup"
   ]
  },
  {
   "cell_type": "code",
   "execution_count": 37,
   "id": "f4d0586b-acfe-49fb-b13f-9060e476b1a0",
   "metadata": {},
   "outputs": [
    {
     "data": {
      "text/plain": [
       "(array([0]), [Text(0, 0, 'Loyal customer')])"
      ]
     },
     "execution_count": 37,
     "metadata": {},
     "output_type": "execute_result"
    },
    {
     "data": {
      "image/png": "[encoded data removed]",
      "text/plain": [
       "<Figure size 640x480 with 1 Axes>"
      ]
     },
     "metadata": {},
     "output_type": "display_data"
    }
   ],
   "source": [
    "# Visualize a bar chart for the crosstab between loyalty_flag and Age Group\n",
    "LoyaltyAgeGroup_BarChart = crosstab_LoyaltyAgeGroup.plot.bar()\n",
    "plt.title('Loyalty by Age Group')\n",
    "plt.xlabel('')\n",
    "plt.ylabel('Count')\n",
    "plt.xticks(rotation=0)"
   ]
  },
  {
   "cell_type": "code",
   "execution_count": 38,
   "id": "8a84b78f-3efd-4803-8256-fedc9b1708e8",
   "metadata": {},
   "outputs": [],
   "source": [
    "# Export the Bar Chart\n",
    "LoyaltyAgeGroup_BarChart.figure.savefig(os.path.join(path, '04 Analysis','Visualizations', 'LoyaltyAgeGroup_BarChart.png'))"
   ]
  },
  {
   "cell_type": "code",
   "execution_count": 39,
   "id": "31559b22-70ca-4c5a-9cba-1ec465a0500d",
   "metadata": {},
   "outputs": [],
   "source": [
    "# Using crosstab functiion on spender_flag and Age Group\n",
    "crosstab_SpenderAgeGroup = pd.crosstab(updated_df['spender_flag'], updated_df['Age Group'], dropna = False)"
   ]
  },
  {
   "cell_type": "code",
   "execution_count": 40,
   "id": "d5238d61-bf79-4774-a43a-2fd5aa737a85",
   "metadata": {},
   "outputs": [
    {
     "data": {
      "text/html": [
       "<div>\n",
       "<style scoped>\n",
       "    .dataframe tbody tr th:only-of-type {\n",
       "        vertical-align: middle;\n",
       "    }\n",
       "\n",
       "    .dataframe tbody tr th {\n",
       "        vertical-align: top;\n",
       "    }\n",
       "\n",
       "    .dataframe thead th {\n",
       "        text-align: right;\n",
       "    }\n",
       "</style>\n",
       "<table border=\"1\" class=\"dataframe\">\n",
       "  <thead>\n",
       "    <tr style=\"text-align: right;\">\n",
       "      <th>Age Group</th>\n",
       "      <th>Adults</th>\n",
       "      <th>Senior</th>\n",
       "      <th>Youth</th>\n",
       "    </tr>\n",
       "    <tr>\n",
       "      <th>spender_flag</th>\n",
       "      <th></th>\n",
       "      <th></th>\n",
       "      <th></th>\n",
       "    </tr>\n",
       "  </thead>\n",
       "  <tbody>\n",
       "    <tr>\n",
       "      <th>High_spender</th>\n",
       "      <td>392277</td>\n",
       "      <td>163994</td>\n",
       "      <td>77974</td>\n",
       "    </tr>\n",
       "    <tr>\n",
       "      <th>Low_spender</th>\n",
       "      <td>19392309</td>\n",
       "      <td>8411090</td>\n",
       "      <td>3967215</td>\n",
       "    </tr>\n",
       "  </tbody>\n",
       "</table>\n",
       "</div>"
      ],
      "text/plain": [
       "Age Group       Adults   Senior    Youth\n",
       "spender_flag                            \n",
       "High_spender    392277   163994    77974\n",
       "Low_spender   19392309  8411090  3967215"
      ]
     },
     "execution_count": 40,
     "metadata": {},
     "output_type": "execute_result"
    }
   ],
   "source": [
    "crosstab_SpenderAgeGroup"
   ]
  },
  {
   "cell_type": "code",
   "execution_count": 41,
   "id": "04f95437-960f-452d-8fef-5a813371036b",
   "metadata": {},
   "outputs": [
    {
     "data": {
      "text/plain": [
       "(array([0, 1]), [Text(0, 0, 'High_spender'), Text(1, 0, 'Low_spender')])"
      ]
     },
     "execution_count": 41,
     "metadata": {},
     "output_type": "execute_result"
    },
    {
     "data": {
      "image/png": "[encoded data removed]",
      "text/plain": [
       "<Figure size 640x480 with 1 Axes>"
      ]
     },
     "metadata": {},
     "output_type": "display_data"
    }
   ],
   "source": [
    "# Visualize a bar chart for the crosstab between spender_flag and Age Group\n",
    "SpenderAgeGroup_BarChart = crosstab_SpenderAgeGroup.plot.bar()\n",
    "plt.title('Spending by Age Group')\n",
    "plt.xlabel('')\n",
    "plt.ylabel('count')\n",
    "plt.xticks(rotation=0)"
   ]
  },
  {
   "cell_type": "code",
   "execution_count": 42,
   "id": "ffe321a0-5519-400f-ace8-390ef4ee949d",
   "metadata": {},
   "outputs": [],
   "source": [
    "# Export the Bar Chart\n",
    "SpenderAgeGroup_BarChart.figure.savefig(os.path.join(path, '04 Analysis','Visualizations', 'SpenderAgeGroup_BarChart.png'))"
   ]
  },
  {
   "cell_type": "markdown",
   "id": "d4518e37-39bb-4fd6-a3fd-738dbc34fb81",
   "metadata": {},
   "source": [
    "#### Import Department Dataframe"
   ]
  },
  {
   "cell_type": "code",
   "execution_count": 43,
   "id": "080a22f9-9672-4835-baa0-e4c20c695e4e",
   "metadata": {},
   "outputs": [],
   "source": [
    "# Importing Dataframe\n",
    "Df_Department = pd.read_csv(os.path.join(path, '02 Data', 'Prepared Data', 'departments_wrangled.csv'))"
   ]
  },
  {
   "cell_type": "code",
   "execution_count": 44,
   "id": "2e9a2ebc-0b5c-4710-bad2-29cdd4f29d31",
   "metadata": {},
   "outputs": [
    {
     "data": {
      "text/html": [
       "<div>\n",
       "<style scoped>\n",
       "    .dataframe tbody tr th:only-of-type {\n",
       "        vertical-align: middle;\n",
       "    }\n",
       "\n",
       "    .dataframe tbody tr th {\n",
       "        vertical-align: top;\n",
       "    }\n",
       "\n",
       "    .dataframe thead th {\n",
       "        text-align: right;\n",
       "    }\n",
       "</style>\n",
       "<table border=\"1\" class=\"dataframe\">\n",
       "  <thead>\n",
       "    <tr style=\"text-align: right;\">\n",
       "      <th></th>\n",
       "      <th>Unnamed: 0</th>\n",
       "      <th>department</th>\n",
       "    </tr>\n",
       "  </thead>\n",
       "  <tbody>\n",
       "    <tr>\n",
       "      <th>0</th>\n",
       "      <td>1</td>\n",
       "      <td>frozen</td>\n",
       "    </tr>\n",
       "    <tr>\n",
       "      <th>1</th>\n",
       "      <td>2</td>\n",
       "      <td>other</td>\n",
       "    </tr>\n",
       "    <tr>\n",
       "      <th>2</th>\n",
       "      <td>3</td>\n",
       "      <td>bakery</td>\n",
       "    </tr>\n",
       "    <tr>\n",
       "      <th>3</th>\n",
       "      <td>4</td>\n",
       "      <td>produce</td>\n",
       "    </tr>\n",
       "    <tr>\n",
       "      <th>4</th>\n",
       "      <td>5</td>\n",
       "      <td>alcohol</td>\n",
       "    </tr>\n",
       "    <tr>\n",
       "      <th>5</th>\n",
       "      <td>6</td>\n",
       "      <td>international</td>\n",
       "    </tr>\n",
       "    <tr>\n",
       "      <th>6</th>\n",
       "      <td>7</td>\n",
       "      <td>beverages</td>\n",
       "    </tr>\n",
       "    <tr>\n",
       "      <th>7</th>\n",
       "      <td>8</td>\n",
       "      <td>pets</td>\n",
       "    </tr>\n",
       "    <tr>\n",
       "      <th>8</th>\n",
       "      <td>9</td>\n",
       "      <td>dry goods pasta</td>\n",
       "    </tr>\n",
       "    <tr>\n",
       "      <th>9</th>\n",
       "      <td>10</td>\n",
       "      <td>bulk</td>\n",
       "    </tr>\n",
       "    <tr>\n",
       "      <th>10</th>\n",
       "      <td>11</td>\n",
       "      <td>personal care</td>\n",
       "    </tr>\n",
       "    <tr>\n",
       "      <th>11</th>\n",
       "      <td>12</td>\n",
       "      <td>meat seafood</td>\n",
       "    </tr>\n",
       "    <tr>\n",
       "      <th>12</th>\n",
       "      <td>13</td>\n",
       "      <td>pantry</td>\n",
       "    </tr>\n",
       "    <tr>\n",
       "      <th>13</th>\n",
       "      <td>14</td>\n",
       "      <td>breakfast</td>\n",
       "    </tr>\n",
       "    <tr>\n",
       "      <th>14</th>\n",
       "      <td>15</td>\n",
       "      <td>canned goods</td>\n",
       "    </tr>\n",
       "    <tr>\n",
       "      <th>15</th>\n",
       "      <td>16</td>\n",
       "      <td>dairy eggs</td>\n",
       "    </tr>\n",
       "    <tr>\n",
       "      <th>16</th>\n",
       "      <td>17</td>\n",
       "      <td>household</td>\n",
       "    </tr>\n",
       "    <tr>\n",
       "      <th>17</th>\n",
       "      <td>18</td>\n",
       "      <td>babies</td>\n",
       "    </tr>\n",
       "    <tr>\n",
       "      <th>18</th>\n",
       "      <td>19</td>\n",
       "      <td>snacks</td>\n",
       "    </tr>\n",
       "    <tr>\n",
       "      <th>19</th>\n",
       "      <td>20</td>\n",
       "      <td>deli</td>\n",
       "    </tr>\n",
       "    <tr>\n",
       "      <th>20</th>\n",
       "      <td>21</td>\n",
       "      <td>missing</td>\n",
       "    </tr>\n",
       "  </tbody>\n",
       "</table>\n",
       "</div>"
      ],
      "text/plain": [
       "    Unnamed: 0       department\n",
       "0            1           frozen\n",
       "1            2            other\n",
       "2            3           bakery\n",
       "3            4          produce\n",
       "4            5          alcohol\n",
       "5            6    international\n",
       "6            7        beverages\n",
       "7            8             pets\n",
       "8            9  dry goods pasta\n",
       "9           10             bulk\n",
       "10          11    personal care\n",
       "11          12     meat seafood\n",
       "12          13           pantry\n",
       "13          14        breakfast\n",
       "14          15     canned goods\n",
       "15          16       dairy eggs\n",
       "16          17        household\n",
       "17          18           babies\n",
       "18          19           snacks\n",
       "19          20             deli\n",
       "20          21          missing"
      ]
     },
     "execution_count": 44,
     "metadata": {},
     "output_type": "execute_result"
    }
   ],
   "source": [
    "Df_Department"
   ]
  },
  {
   "cell_type": "code",
   "execution_count": 45,
   "id": "5788ce1a-2fd3-49e1-9d06-c0ecc8832905",
   "metadata": {},
   "outputs": [],
   "source": [
    "# Rename the unnamed column to deptment_id\n",
    "Df_Department.rename(columns={'Unnamed: 0': 'department_id'}, inplace=True)"
   ]
  },
  {
   "cell_type": "code",
   "execution_count": 47,
   "id": "8d3a2e95-33f9-4d1c-9cd5-97fd8b911eb8",
   "metadata": {},
   "outputs": [],
   "source": [
    "# Merge the Df_Department and updated_df to analyze the departments against age groups, income levels and products\n",
    "#Df_Merged = updated_df.merge(Df_Department, on = 'department_id', indicator = 'created')"
   ]
  },
  {
   "cell_type": "code",
   "execution_count": null,
   "id": "23ac9625-81d0-4261-b90f-c819b4976d83",
   "metadata": {},
   "outputs": [],
   "source": [
    "# Export the new dataframe (Df_Merged) where we have data from orders, customers, products and departments\n",
    "#Df_Merged.to_pickle(os.path.join(path,'02 Data','Prepared Data','orders_products_customers_departments.pkl'))"
   ]
  },
  {
   "cell_type": "code",
   "execution_count": null,
   "id": "3bc1d94b-5a3d-46ed-b50a-06515f373c35",
   "metadata": {},
   "outputs": [],
   "source": [
    "# Visualize a bar chart of Products ordered by Department\n",
    "#BarChart_Department = Df_Merged['department'].value_counts(ascending = True)"
   ]
  },
  {
   "cell_type": "code",
   "execution_count": null,
   "id": "5b172dcb-8561-47b4-887d-22bcac587a6e",
   "metadata": {},
   "outputs": [],
   "source": [
    "#BarChart_Department"
   ]
  },
  {
   "cell_type": "code",
   "execution_count": null,
   "id": "b9ae635c-e93c-4022-8ebf-e589a6c1443f",
   "metadata": {},
   "outputs": [],
   "source": [
    "#Department_Products = BarChart_Department.plot(kind = 'barh', color = 'F7B7A3', xlabel = 'Count', title='Products Ordered by Department')"
   ]
  },
  {
   "cell_type": "code",
   "execution_count": null,
   "id": "5490d7eb-dee0-42be-ba9a-6071f29b6f98",
   "metadata": {},
   "outputs": [],
   "source": [
    "# Export bar chart\n",
    "#Department_Products.figure.savefig(os.path.join(path, '04 Analysis','Visualizations', 'BarChart_Department.png'))"
   ]
  },
  {
   "cell_type": "code",
   "execution_count": null,
   "id": "05086766-0280-4f2b-a357-69c6ff0ca063",
   "metadata": {},
   "outputs": [],
   "source": [
    "#Df_Merged.columns"
   ]
  },
  {
   "cell_type": "code",
   "execution_count": null,
   "id": "6b6acfb7-fc56-43ec-b955-1320a65dc388",
   "metadata": {},
   "outputs": [],
   "source": [
    "# Using crosstab functiion on department and Age Group\n",
    "#Cross_DepartmentAgeGroup = pd.crosstab(Df_Merged['Age Group'], Df_Merged['department'], dropna = False)"
   ]
  },
  {
   "cell_type": "code",
   "execution_count": null,
   "id": "a8e261ee-7ab5-4b1b-8ba8-29a08c3856a9",
   "metadata": {},
   "outputs": [],
   "source": [
    "#Cross_DepartmentAgeGroup"
   ]
  },
  {
   "cell_type": "code",
   "execution_count": null,
   "id": "e5cbcab5-d785-4034-8a07-fc4bd3df1598",
   "metadata": {},
   "outputs": [],
   "source": [
    "# Using crosstab functiion on department and Income\n",
    "#Cross_IncomeAgeGroup = pd.crosstab(Df_Merged['Income Group'], Df_Merged['department'], dropna = False)"
   ]
  },
  {
   "cell_type": "code",
   "execution_count": null,
   "id": "54e96a32-9635-4a0a-bb77-5ee5d16b3fb1",
   "metadata": {},
   "outputs": [],
   "source": [
    "#Cross_IncomeAgeGroup"
   ]
  },
  {
   "cell_type": "markdown",
   "id": "9d13ec0d-fb7a-4c70-96e0-53a2052c9858",
   "metadata": {},
   "source": [
    "#### Since here we have more than 10 columns in the three different category. Visualizing a chart for it is redundant, as the final presentation for the client should be simple and easy to understand in order to make clear decisions."
   ]
  },
  {
   "cell_type": "markdown",
   "id": "b2182455-0b21-46c8-ac75-dd81a6eb1d0b",
   "metadata": {},
   "source": [
    "## Use Aggregation Functions on customer profile level for usage frequency and expenditure"
   ]
  },
  {
   "cell_type": "code",
   "execution_count": null,
   "id": "1beda3a8-02ca-420e-8a3b-3fc90965736f",
   "metadata": {},
   "outputs": [],
   "source": [
    "#Df_Merged.describe()"
   ]
  },
  {
   "cell_type": "code",
   "execution_count": null,
   "id": "3418cef5-68f8-4b54-8b05-f964da5ca6c5",
   "metadata": {},
   "outputs": [],
   "source": [
    "# Aggregation function on variables for customer profiles for expenditure\n",
    "#Df_Merged.groupby('user_id').agg({'order_number': ['max', 'min', 'mean'], 'prices': ['max', 'min', 'mean']})"
   ]
  },
  {
   "cell_type": "code",
   "execution_count": null,
   "id": "00297f6e-39ac-4f3b-8435-e1070e4342e6",
   "metadata": {},
   "outputs": [],
   "source": [
    "# Aggregation function on variables for customer profiles for Frequency\n",
    "#Df_Merged.groupby('user_id').agg({'order_number': ['max', 'min', 'mean'], 'days_since_prior_order': ['max', 'min', 'mean']})"
   ]
  },
  {
   "cell_type": "markdown",
   "id": "b63a8f21-60e3-4acf-acda-859dde31e299",
   "metadata": {},
   "source": [
    "### Region and Department based comparison between customer profiles"
   ]
  },
  {
   "cell_type": "code",
   "execution_count": null,
   "id": "575056e8-2788-48e5-bcf9-e69e45aa506e",
   "metadata": {},
   "outputs": [],
   "source": [
    "# Using crosstab functiion on Region and Department\n",
    "#Cross_RegionDepartment = pd.crosstab(Df_Merged['Region'], Df_Merged['department'], dropna = False)"
   ]
  },
  {
   "cell_type": "code",
   "execution_count": null,
   "id": "4c14f6ce-2df7-4f36-bb4c-0e504f6683ee",
   "metadata": {},
   "outputs": [],
   "source": [
    "#Cross_RegionDepartment"
   ]
  },
  {
   "cell_type": "code",
   "execution_count": null,
   "id": "ccaa7cc2-14a2-40ec-877d-533e114e3177",
   "metadata": {},
   "outputs": [],
   "source": [
    "# Visualize a bar chart of Products ordered by Department across different regions\n",
    "#BarChart_RegionDepartment = Cross_RegionDepartment.plot(kind = 'barh', figsize=(14,10))\n",
    "#plt.title('Department Sales by Region')\n",
    "#plt.xlabel('products count')\n",
    "#plt.ylabel('region')\n",
    "\n",
    "\n",
    "# Move legend outside of plot\n",
    "#plt.legend(title='Department', bbox_to_anchor=(1.05, 1), loc='upper left', fontsize=12, title_fontsize=14)"
   ]
  },
  {
   "cell_type": "code",
   "execution_count": null,
   "id": "6c3cb8c1-173f-4a28-a52c-3acd3dc78418",
   "metadata": {},
   "outputs": [],
   "source": [
    "# Export bar chart\n",
    "#BarChart_RegionDepartment.figure.savefig(os.path.join(path, '04 Analysis','Visualizations', 'BarChart_RegionDepartment.png'))"
   ]
  },
  {
   "cell_type": "code",
   "execution_count": null,
   "id": "be22ad51-d8ff-4c92-8004-c565f50e99cf",
   "metadata": {},
   "outputs": [],
   "source": [
    "# Visualize orders by Day of Week\n",
    "#BarChart_DOW = Df_Merged['orders_day_of_week'].value_counts()"
   ]
  },
  {
   "cell_type": "code",
   "execution_count": null,
   "id": "7a06291e-0d50-4aac-ba85-dd86e8b0fb6b",
   "metadata": {},
   "outputs": [],
   "source": [
    "#BarChart_DOW"
   ]
  },
  {
   "cell_type": "code",
   "execution_count": null,
   "id": "9ffbd31b-0e8d-454d-a6f6-d935904073bd",
   "metadata": {},
   "outputs": [],
   "source": [
    "# Visualize a Bar Chart of orders by Day of Week\n",
    "#BarChart_DOW = Df_Merged['orders_day_of_week'].value_counts().sort_index().plot.bar(color = '#9B3192')\n",
    "#OrdersBarChart_DayOfWeek = BarChart_DOW.set_title('Orders based on Day of Week')\n",
    "#BarChart_DOW.set_xticklabels([ 'Saturday', 'Sunday', 'Monday', 'Tuesday', 'Wednesday', 'Thursday', 'Friday'], rotation=0)\n",
    "#BarChart_DOW.set_xlabel(\"\")"
   ]
  },
  {
   "cell_type": "code",
   "execution_count": null,
   "id": "973e5741-8623-473c-81b3-20ae31904075",
   "metadata": {},
   "outputs": [],
   "source": [
    "# Export the bar chart\n",
    "#OrdersBarChart_DayOfWeek.figure.savefig(os.path.join(path, '04 Analysis','Visualizations', 'OrdersBarChart_DayOfWeek.png'))"
   ]
  },
  {
   "cell_type": "code",
   "execution_count": null,
   "id": "8f559608-de83-48f1-bf89-8666920e314b",
   "metadata": {},
   "outputs": [],
   "source": [
    "'''\n",
    "# Visualize a histogram for Time of Order \n",
    "TimeOfDay_Histogram = Df_Merged['order_hour_of_day'].plot.hist(bins = 24, color = '#9B3192')\n",
    "plt.title('Time of order')\n",
    "plt.xlabel('Hour of Day (24 hr clock)')\n"
   ]
  },
  {
   "cell_type": "code",
   "execution_count": null,
   "id": "196decb2-9ffb-44c7-8ecc-4467f0bb291c",
   "metadata": {},
   "outputs": [],
   "source": [
    "'''# Export the histogram\n",
    "TimeOfDay_Histogram.figure.savefig(os.path.join(path, '04 Analysis','Visualizations', 'TimeOfDay_Histogram.png'))'''"
   ]
  },
  {
   "cell_type": "code",
   "execution_count": null,
   "id": "27f9d83d-bffd-421a-bf95-bd6cfc904e66",
   "metadata": {},
   "outputs": [],
   "source": [
    "# Using crosstab function on loyalty with age group\n",
    "'''\n",
    "Cross_LoyaltyIncome = pd.crosstab(Df_Merged['loyalty_flag'], Df_Merged['Income Group'], dropna = False)'''"
   ]
  },
  {
   "cell_type": "code",
   "execution_count": null,
   "id": "ce5b32d6-0499-4d1f-a30e-1f6f0626ef5f",
   "metadata": {},
   "outputs": [],
   "source": [
    "#Cross_LoyaltyIncome"
   ]
  },
  {
   "cell_type": "code",
   "execution_count": null,
   "id": "4129739c-1acf-463e-89c0-3cf608f71f51",
   "metadata": {},
   "outputs": [],
   "source": [
    "'''\n",
    "# Visualize a bar chart on loyalty across different Income  Groups\n",
    "BarChart_LoyaltyIncome = Cross_LoyaltyIncome.plot.bar()\n",
    "plt.title('Loyalty by Income Group')\n",
    "plt.xlabel('')\n",
    "plt.ylabel('count')\n",
    "plt.xticks(rotation=0)\n",
    "'''"
   ]
  },
  {
   "cell_type": "code",
   "execution_count": null,
   "id": "2c2cd88d-f8c1-4d68-9273-9e2cf6d616ed",
   "metadata": {},
   "outputs": [],
   "source": [
    "# Export the Bar Chart\n",
    "#BarChart_LoyaltyIncome.figure.savefig(os.path.join(path, '04 Analysis','Visualizations', 'loyalty_income_group_bar.png'))"
   ]
  },
  {
   "cell_type": "code",
   "execution_count": null,
   "id": "15428610-c13a-41b1-833a-514243e76ceb",
   "metadata": {},
   "outputs": [],
   "source": [
    "# Using crosstab function on loyalty with spending\n",
    "#Cross_LoyaltySpending = pd.crosstab(Df_Merged['loyalty_flag'], Df_Merged['spender_flag'], dropna = False)"
   ]
  },
  {
   "cell_type": "code",
   "execution_count": null,
   "id": "83c6cad3-cd76-48f7-9751-f0f448db59f2",
   "metadata": {},
   "outputs": [],
   "source": [
    "#Cross_LoyaltySpending"
   ]
  },
  {
   "cell_type": "code",
   "execution_count": null,
   "id": "a7a29bca-fe90-42e6-bec6-368f3bd4387b",
   "metadata": {},
   "outputs": [],
   "source": [
    "# Visualize a Bar Chart Loyalty across customers base\n",
    "#BarChart_LoyaltySpender = Cross_LoyaltySpending.plot.bar()\n",
    "#plt.title('Loyalty by Customer Category')\n",
    "#plt.xlabel('')\n",
    "#plt.ylabel('count')\n",
    "#plt.xticks(rotation=0)"
   ]
  },
  {
   "cell_type": "code",
   "execution_count": null,
   "id": "ae9ae684-3832-45e2-a663-54ecf58456a0",
   "metadata": {},
   "outputs": [],
   "source": [
    "# Export the Bar chart\n",
    "#BarChart_LoyaltySpender.figure.savefig(os.path.join(path, '04 Analysis','Visualizations', 'BarChart_LoyaltySpender.png'))"
   ]
  },
  {
   "cell_type": "code",
   "execution_count": null,
   "id": "14ac6d75-56a5-4409-8452-ae14c2a66973",
   "metadata": {},
   "outputs": [],
   "source": [
    "# Using crosstab function on loyalty with Family Status\n",
    "#Cross_LoyaltyFamilyStatus = pd.crosstab(Df_Merged['loyalty_flag'], Df_Merged['Family Status'], dropna = False)"
   ]
  },
  {
   "cell_type": "code",
   "execution_count": null,
   "id": "817f9a50-50d3-49ae-9910-867a7bb02823",
   "metadata": {},
   "outputs": [],
   "source": [
    "#Cross_LoyaltyFamilyStatus"
   ]
  },
  {
   "cell_type": "code",
   "execution_count": null,
   "id": "4185be76-9477-4da7-b69e-bf143986d6a2",
   "metadata": {},
   "outputs": [],
   "source": [
    "# Visualize a Bar Chart Loyalty across different family status of customers\n",
    "'''\n",
    "BarChart_LoyaltyFamilyStatus = Cross_LoyaltyFamilyStatus.plot.bar()\n",
    "plt.title('Loyalty by Family Status')\n",
    "plt.xlabel('')\n",
    "plt.ylabel('count')\n",
    "plt.xticks(rotation=0)\n",
    "'''"
   ]
  },
  {
   "cell_type": "code",
   "execution_count": null,
   "id": "bb9fa889-acb8-4095-b9bf-5fc16c43be8c",
   "metadata": {},
   "outputs": [],
   "source": [
    "# Export the Bar Chart\n",
    "#BarChart_LoyaltyFamilyStatus.figure.savefig(os.path.join(path, '04 Analysis','Visualizations', 'BarChart_LoyaltyFamilyStatus.png'))"
   ]
  },
  {
   "cell_type": "code",
   "execution_count": null,
   "id": "2da26c99-ed64-4331-9e41-d95759159c94",
   "metadata": {},
   "outputs": [],
   "source": [
    "# Check value counts for Family Status \n",
    "#FamilyStatus = Df_Merged['Family Status'].value_counts(dropna = False)"
   ]
  },
  {
   "cell_type": "code",
   "execution_count": null,
   "id": "57d76ac3-1dbd-471f-94c1-165a967bd6b4",
   "metadata": {},
   "outputs": [],
   "source": [
    "#FamilyStatus"
   ]
  },
  {
   "cell_type": "code",
   "execution_count": null,
   "id": "7dd0e1fb-56c8-4591-a599-d68be18866d7",
   "metadata": {},
   "outputs": [],
   "source": [
    "'''\n",
    "# Visualize a pie chart\n",
    "PieChart_FamilyStatus = FamilyStatus.plot.pie(autopct='%1.1f%%', labels= ['married', 'single', 'divorced/widowed', 'living with parents and siblings'], startangle=90, colors=['#ff9999','#66b3ff','#99ff99','#ffcc99'])\n",
    "# Hide the y-label\n",
    "plt.ylabel('')  \n",
    "plt.title('Distribution of Family Status')\n",
    "plt.show()\n",
    "'''"
   ]
  },
  {
   "cell_type": "code",
   "execution_count": null,
   "id": "4e662745-e52a-48c2-ab84-c5c52108488a",
   "metadata": {},
   "outputs": [],
   "source": [
    "# Using crosstab function on loyalty with Dependents\n",
    "#Cross_LoyaltyDependents = pd.crosstab(Df_Merged['loyalty_flag'], Df_Merged['dependents_flag'], dropna = False)"
   ]
  },
  {
   "cell_type": "code",
   "execution_count": null,
   "id": "90be9a95-591c-48bd-b25d-aadc796e4398",
   "metadata": {},
   "outputs": [],
   "source": [
    "#Cross_LoyaltyDependents"
   ]
  },
  {
   "cell_type": "code",
   "execution_count": null,
   "id": "61a06fe9-f7ec-40e5-b4d1-34f56ee34157",
   "metadata": {},
   "outputs": [],
   "source": [
    "'''# Visualize a Bar Chart Loyalty across different family status of customers\n",
    "BarChart_LoyaltyDependents = Cross_LoyaltyDependents.plot.bar()\n",
    "plt.title('Loyalty across different Dependants ')\n",
    "plt.xlabel('')\n",
    "plt.ylabel('count')\n",
    "plt.xticks(rotation=0)\n",
    "'''"
   ]
  },
  {
   "cell_type": "code",
   "execution_count": null,
   "id": "21851425-7812-4639-92fc-78d87d116757",
   "metadata": {},
   "outputs": [],
   "source": [
    "# Export the Bar Chart\n",
    "#BarChart_LoyaltyDependents.figure.savefig(os.path.join(path, '04 Analysis','Visualizations', 'BarChart_LoyaltyDependents.png'))"
   ]
  },
  {
   "cell_type": "code",
   "execution_count": null,
   "id": "902824ac-dcd9-4d31-9c20-b16b114cef54",
   "metadata": {},
   "outputs": [],
   "source": [
    "# Verify the Family Status Variable\n",
    "#Count_FamilyStatus = updated_df['Family Status'].value_counts(dropna = False)"
   ]
  },
  {
   "cell_type": "code",
   "execution_count": null,
   "id": "1b9f449b-fbfd-451a-919e-49c6720986b3",
   "metadata": {},
   "outputs": [],
   "source": [
    "#Count_FamilyStatus"
   ]
  },
  {
   "cell_type": "code",
   "execution_count": null,
   "id": "79cb6930-e137-4781-a9b0-6c96dee5dae9",
   "metadata": {},
   "outputs": [],
   "source": [
    "#FamilyStatus_BarChart = Count_FamilyStatus.plot.bar(color = {'#9B3192','#FFF1C9', '#F7B7A3', '#EA5F89'})  \n",
    "#plt.title('Distribution of Family Status')\n",
    "# Hide the y-label\n",
    "#plt.xlabel('')\n",
    "#plt.ylabel('Count')\n",
    "#plt.show()"
   ]
  },
  {
   "cell_type": "code",
   "execution_count": null,
   "id": "5723646c-68fc-4af9-93a6-a45bee3b7d86",
   "metadata": {},
   "outputs": [],
   "source": [
    "# Export the Bar Chart\n",
    "#FamilyStatus_BarChart.figure.savefig(os.path.join(path, '04 Analysis','Visualizations', 'FamilyStatus_BarChart.png'))"
   ]
  },
  {
   "cell_type": "code",
   "execution_count": null,
   "id": "c3865816-e78e-4671-a859-6c81a91f664b",
   "metadata": {},
   "outputs": [],
   "source": [
    "# The End of the code."
   ]
  }
 ],
 "metadata": {
  "kernelspec": {
   "display_name": "Python 3 (ipykernel)",
   "language": "python",
   "name": "python3"
  },
  "language_info": {
   "codemirror_mode": {
    "name": "ipython",
    "version": 3
   },
   "file_extension": ".py",
   "mimetype": "text/x-python",
   "name": "python",
   "nbconvert_exporter": "python",
   "pygments_lexer": "ipython3",
   "version": "3.12.7"
  }
 },
 "nbformat": 4,
 "nbformat_minor": 5
}
